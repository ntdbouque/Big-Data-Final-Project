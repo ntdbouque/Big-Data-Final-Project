{
 "cells": [
  {
   "cell_type": "code",
   "execution_count": 1,
   "id": "2d30c59e",
   "metadata": {
    "_cell_guid": "b1076dfc-b9ad-4769-8c92-a6c4dae69d19",
    "_uuid": "8f2839f25d086af736a60e9eeb907d3b93b6e0e5",
    "execution": {
     "iopub.execute_input": "2024-05-04T09:51:30.396978Z",
     "iopub.status.busy": "2024-05-04T09:51:30.396257Z",
     "iopub.status.idle": "2024-05-04T09:52:26.370239Z",
     "shell.execute_reply": "2024-05-04T09:52:26.368961Z"
    },
    "papermill": {
     "duration": 55.988686,
     "end_time": "2024-05-04T09:52:26.373236",
     "exception": false,
     "start_time": "2024-05-04T09:51:30.384550",
     "status": "completed"
    },
    "tags": []
   },
   "outputs": [
    {
     "name": "stdout",
     "output_type": "stream",
     "text": [
      "Collecting pyspark\r\n",
      "  Downloading pyspark-3.5.1.tar.gz (317.0 MB)\r\n",
      "\u001b[2K     \u001b[90m━━━━━━━━━━━━━━━━━━━━━━━━━━━━━━━━━━━━━━━\u001b[0m \u001b[32m317.0/317.0 MB\u001b[0m \u001b[31m4.3 MB/s\u001b[0m eta \u001b[36m0:00:00\u001b[0m\r\n",
      "\u001b[?25h  Preparing metadata (setup.py) ... \u001b[?25l-\b \b\\\b \bdone\r\n",
      "\u001b[?25hRequirement already satisfied: py4j==0.10.9.7 in /opt/conda/lib/python3.10/site-packages (from pyspark) (0.10.9.7)\r\n",
      "Building wheels for collected packages: pyspark\r\n",
      "  Building wheel for pyspark (setup.py) ... \u001b[?25l-\b \b\\\b \b|\b \bdone\r\n",
      "\u001b[?25h  Created wheel for pyspark: filename=pyspark-3.5.1-py2.py3-none-any.whl size=317488493 sha256=64ddf66c5d339076a2e9a09779086bca6e8c71d8b8629bd2840743ccff580000\r\n",
      "  Stored in directory: /root/.cache/pip/wheels/80/1d/60/2c256ed38dddce2fdd93be545214a63e02fbd8d74fb0b7f3a6\r\n",
      "Successfully built pyspark\r\n",
      "Installing collected packages: pyspark\r\n",
      "Successfully installed pyspark-3.5.1\r\n"
     ]
    }
   ],
   "source": [
    "!pip install pyspark"
   ]
  },
  {
   "cell_type": "code",
   "execution_count": 2,
   "id": "3f8f3cf3",
   "metadata": {
    "execution": {
     "iopub.execute_input": "2024-05-04T09:52:26.417125Z",
     "iopub.status.busy": "2024-05-04T09:52:26.416698Z",
     "iopub.status.idle": "2024-05-04T09:52:35.296021Z",
     "shell.execute_reply": "2024-05-04T09:52:35.294877Z"
    },
    "papermill": {
     "duration": 8.903802,
     "end_time": "2024-05-04T09:52:35.298986",
     "exception": false,
     "start_time": "2024-05-04T09:52:26.395184",
     "status": "completed"
    },
    "tags": []
   },
   "outputs": [
    {
     "name": "stderr",
     "output_type": "stream",
     "text": [
      "Setting default log level to \"WARN\".\n",
      "To adjust logging level use sc.setLogLevel(newLevel). For SparkR, use setLogLevel(newLevel).\n",
      "24/05/04 09:52:33 WARN NativeCodeLoader: Unable to load native-hadoop library for your platform... using builtin-java classes where applicable\n"
     ]
    }
   ],
   "source": [
    "from pyspark.sql import SparkSession\n",
    "import pyspark.sql.functions as F\n",
    "import pyspark.sql.types as T\n",
    "from pyspark.sql.functions import expr\n",
    "\n",
    "\n",
    "import matplotlib.pyplot as plt\n",
    "import seaborn as sns\n",
    "import pandas as pd\n",
    "\n",
    "spark = SparkSession.builder.getOrCreate()"
   ]
  },
  {
   "cell_type": "code",
   "execution_count": 3,
   "id": "32a8538f",
   "metadata": {
    "execution": {
     "iopub.execute_input": "2024-05-04T09:52:35.346425Z",
     "iopub.status.busy": "2024-05-04T09:52:35.345328Z",
     "iopub.status.idle": "2024-05-04T09:52:55.083428Z",
     "shell.execute_reply": "2024-05-04T09:52:55.080769Z"
    },
    "papermill": {
     "duration": 19.766534,
     "end_time": "2024-05-04T09:52:55.087471",
     "exception": false,
     "start_time": "2024-05-04T09:52:35.320937",
     "status": "completed"
    },
    "tags": []
   },
   "outputs": [
    {
     "name": "stderr",
     "output_type": "stream",
     "text": [
      "                                                                                \r"
     ]
    }
   ],
   "source": [
    "# read csv:\n",
    "df = spark.read.csv('/kaggle/input/big-data/PS_20174392719_1491204439457_log.csv', inferSchema=True, header=True)"
   ]
  },
  {
   "cell_type": "code",
   "execution_count": 4,
   "id": "d036d583",
   "metadata": {
    "execution": {
     "iopub.execute_input": "2024-05-04T09:52:55.131759Z",
     "iopub.status.busy": "2024-05-04T09:52:55.131362Z",
     "iopub.status.idle": "2024-05-04T09:52:55.196994Z",
     "shell.execute_reply": "2024-05-04T09:52:55.195631Z"
    },
    "papermill": {
     "duration": 0.092052,
     "end_time": "2024-05-04T09:52:55.201499",
     "exception": false,
     "start_time": "2024-05-04T09:52:55.109447",
     "status": "completed"
    },
    "tags": []
   },
   "outputs": [],
   "source": [
    "df.createOrReplaceTempView('temp_table')"
   ]
  },
  {
   "cell_type": "markdown",
   "id": "c51a112b",
   "metadata": {
    "papermill": {
     "duration": 0.02051,
     "end_time": "2024-05-04T09:52:55.243451",
     "exception": false,
     "start_time": "2024-05-04T09:52:55.222941",
     "status": "completed"
    },
    "tags": []
   },
   "source": [
    "### 1. Types of Transactions:"
   ]
  },
  {
   "cell_type": "code",
   "execution_count": 5,
   "id": "53f6d4bf",
   "metadata": {
    "execution": {
     "iopub.execute_input": "2024-05-04T09:52:55.287455Z",
     "iopub.status.busy": "2024-05-04T09:52:55.287059Z",
     "iopub.status.idle": "2024-05-04T09:52:55.458554Z",
     "shell.execute_reply": "2024-05-04T09:52:55.457532Z"
    },
    "papermill": {
     "duration": 0.197076,
     "end_time": "2024-05-04T09:52:55.461496",
     "exception": false,
     "start_time": "2024-05-04T09:52:55.264420",
     "status": "completed"
    },
    "tags": []
   },
   "outputs": [],
   "source": [
    "result = spark.sql('select type, count(1) from temp_table group by type')"
   ]
  },
  {
   "cell_type": "code",
   "execution_count": 6,
   "id": "c2ad2db6",
   "metadata": {
    "execution": {
     "iopub.execute_input": "2024-05-04T09:52:55.505711Z",
     "iopub.status.busy": "2024-05-04T09:52:55.504800Z",
     "iopub.status.idle": "2024-05-04T09:53:03.396045Z",
     "shell.execute_reply": "2024-05-04T09:53:03.394817Z"
    },
    "papermill": {
     "duration": 7.918925,
     "end_time": "2024-05-04T09:53:03.401001",
     "exception": false,
     "start_time": "2024-05-04T09:52:55.482076",
     "status": "completed"
    },
    "tags": []
   },
   "outputs": [
    {
     "name": "stderr",
     "output_type": "stream",
     "text": [
      "[Stage 2:>                                                          (0 + 4) / 4]\r"
     ]
    },
    {
     "name": "stdout",
     "output_type": "stream",
     "text": [
      "+--------+--------+\n",
      "|    type|count(1)|\n",
      "+--------+--------+\n",
      "|TRANSFER|  532909|\n",
      "| CASH_IN| 1399284|\n",
      "|CASH_OUT| 2237500|\n",
      "| PAYMENT| 2151495|\n",
      "|   DEBIT|   41432|\n",
      "+--------+--------+\n",
      "\n"
     ]
    },
    {
     "name": "stderr",
     "output_type": "stream",
     "text": [
      "                                                                                \r"
     ]
    }
   ],
   "source": [
    "result.show()"
   ]
  },
  {
   "cell_type": "code",
   "execution_count": 7,
   "id": "491d004a",
   "metadata": {
    "execution": {
     "iopub.execute_input": "2024-05-04T09:53:03.463398Z",
     "iopub.status.busy": "2024-05-04T09:53:03.462867Z",
     "iopub.status.idle": "2024-05-04T09:53:10.780136Z",
     "shell.execute_reply": "2024-05-04T09:53:10.779000Z"
    },
    "papermill": {
     "duration": 7.352696,
     "end_time": "2024-05-04T09:53:10.783794",
     "exception": false,
     "start_time": "2024-05-04T09:53:03.431098",
     "status": "completed"
    },
    "tags": []
   },
   "outputs": [
    {
     "name": "stderr",
     "output_type": "stream",
     "text": [
      "                                                                                \r"
     ]
    }
   ],
   "source": [
    "result = result.toPandas()"
   ]
  },
  {
   "cell_type": "code",
   "execution_count": 8,
   "id": "0ef109b3",
   "metadata": {
    "execution": {
     "iopub.execute_input": "2024-05-04T09:53:10.845349Z",
     "iopub.status.busy": "2024-05-04T09:53:10.844404Z",
     "iopub.status.idle": "2024-05-04T09:53:11.287315Z",
     "shell.execute_reply": "2024-05-04T09:53:11.285901Z"
    },
    "papermill": {
     "duration": 0.4778,
     "end_time": "2024-05-04T09:53:11.290790",
     "exception": false,
     "start_time": "2024-05-04T09:53:10.812990",
     "status": "completed"
    },
    "tags": []
   },
   "outputs": [
    {
     "data": {
      "image/png": "[encoded data removed]",
      "text/plain": [
       "<Figure size 800x800 with 1 Axes>"
      ]
     },
     "metadata": {},
     "output_type": "display_data"
    }
   ],
   "source": [
    "plt.figure(figsize = (8,8))\n",
    "plt.pie(result['count(1)'], labels = result['type'], autopct='%1.1f%%')\n",
    "plt.legend()\n",
    "plt.title('Types of Transactions')\n",
    "plt.show()"
   ]
  },
  {
   "cell_type": "code",
   "execution_count": 9,
   "id": "63881af8",
   "metadata": {
    "execution": {
     "iopub.execute_input": "2024-05-04T09:53:11.342796Z",
     "iopub.status.busy": "2024-05-04T09:53:11.341926Z",
     "iopub.status.idle": "2024-05-04T09:53:11.393318Z",
     "shell.execute_reply": "2024-05-04T09:53:11.392014Z"
    },
    "papermill": {
     "duration": 0.077644,
     "end_time": "2024-05-04T09:53:11.396343",
     "exception": false,
     "start_time": "2024-05-04T09:53:11.318699",
     "status": "completed"
    },
    "tags": []
   },
   "outputs": [],
   "source": [
    "result1 = spark.sql('select type, sum(amount) from temp_table group by type')"
   ]
  },
  {
   "cell_type": "code",
   "execution_count": 10,
   "id": "bae5aede",
   "metadata": {
    "execution": {
     "iopub.execute_input": "2024-05-04T09:53:11.463804Z",
     "iopub.status.busy": "2024-05-04T09:53:11.462306Z",
     "iopub.status.idle": "2024-05-04T09:53:20.434382Z",
     "shell.execute_reply": "2024-05-04T09:53:20.433253Z"
    },
    "papermill": {
     "duration": 9.007953,
     "end_time": "2024-05-04T09:53:20.437007",
     "exception": false,
     "start_time": "2024-05-04T09:53:11.429054",
     "status": "completed"
    },
    "tags": []
   },
   "outputs": [
    {
     "name": "stderr",
     "output_type": "stream",
     "text": [
      "                                                                                \r"
     ]
    }
   ],
   "source": [
    "result1 = result1.toPandas()"
   ]
  },
  {
   "cell_type": "code",
   "execution_count": 11,
   "id": "bbfe7c68",
   "metadata": {
    "execution": {
     "iopub.execute_input": "2024-05-04T09:53:20.483449Z",
     "iopub.status.busy": "2024-05-04T09:53:20.483046Z",
     "iopub.status.idle": "2024-05-04T09:53:20.500573Z",
     "shell.execute_reply": "2024-05-04T09:53:20.499317Z"
    },
    "papermill": {
     "duration": 0.043948,
     "end_time": "2024-05-04T09:53:20.503343",
     "exception": false,
     "start_time": "2024-05-04T09:53:20.459395",
     "status": "completed"
    },
    "tags": []
   },
   "outputs": [
    {
     "data": {
      "text/html": [
       "<div>\n",
       "<style scoped>\n",
       "    .dataframe tbody tr th:only-of-type {\n",
       "        vertical-align: middle;\n",
       "    }\n",
       "\n",
       "    .dataframe tbody tr th {\n",
       "        vertical-align: top;\n",
       "    }\n",
       "\n",
       "    .dataframe thead th {\n",
       "        text-align: right;\n",
       "    }\n",
       "</style>\n",
       "<table border=\"1\" class=\"dataframe\">\n",
       "  <thead>\n",
       "    <tr style=\"text-align: right;\">\n",
       "      <th></th>\n",
       "      <th>type</th>\n",
       "      <th>sum(amount)</th>\n",
       "    </tr>\n",
       "  </thead>\n",
       "  <tbody>\n",
       "    <tr>\n",
       "      <th>0</th>\n",
       "      <td>TRANSFER</td>\n",
       "      <td>4.852920e+11</td>\n",
       "    </tr>\n",
       "    <tr>\n",
       "      <th>1</th>\n",
       "      <td>CASH_IN</td>\n",
       "      <td>2.363674e+11</td>\n",
       "    </tr>\n",
       "    <tr>\n",
       "      <th>2</th>\n",
       "      <td>CASH_OUT</td>\n",
       "      <td>3.944130e+11</td>\n",
       "    </tr>\n",
       "    <tr>\n",
       "      <th>3</th>\n",
       "      <td>PAYMENT</td>\n",
       "      <td>2.809337e+10</td>\n",
       "    </tr>\n",
       "    <tr>\n",
       "      <th>4</th>\n",
       "      <td>DEBIT</td>\n",
       "      <td>2.271992e+08</td>\n",
       "    </tr>\n",
       "  </tbody>\n",
       "</table>\n",
       "</div>"
      ],
      "text/plain": [
       "       type   sum(amount)\n",
       "0  TRANSFER  4.852920e+11\n",
       "1   CASH_IN  2.363674e+11\n",
       "2  CASH_OUT  3.944130e+11\n",
       "3   PAYMENT  2.809337e+10\n",
       "4     DEBIT  2.271992e+08"
      ]
     },
     "execution_count": 11,
     "metadata": {},
     "output_type": "execute_result"
    }
   ],
   "source": [
    "result1.head()"
   ]
  },
  {
   "cell_type": "code",
   "execution_count": 12,
   "id": "7590d686",
   "metadata": {
    "execution": {
     "iopub.execute_input": "2024-05-04T09:53:20.551199Z",
     "iopub.status.busy": "2024-05-04T09:53:20.550492Z",
     "iopub.status.idle": "2024-05-04T09:53:20.788125Z",
     "shell.execute_reply": "2024-05-04T09:53:20.787147Z"
    },
    "papermill": {
     "duration": 0.264601,
     "end_time": "2024-05-04T09:53:20.790573",
     "exception": false,
     "start_time": "2024-05-04T09:53:20.525972",
     "status": "completed"
    },
    "tags": []
   },
   "outputs": [
    {
     "data": {
      "image/png": "[encoded data removed]",
      "text/plain": [
       "<Figure size 1000x800 with 1 Axes>"
      ]
     },
     "metadata": {},
     "output_type": "display_data"
    }
   ],
   "source": [
    "plt.figure(figsize = (10,8))\n",
    "plt.bar(result1['type'], result1['sum(amount)'])\n",
    "plt.legend()\n",
    "plt.title('Types of Transactions')\n",
    "plt.show()"
   ]
  },
  {
   "cell_type": "markdown",
   "id": "7e1ab9c4",
   "metadata": {
    "papermill": {
     "duration": 0.022213,
     "end_time": "2024-05-04T09:53:20.835482",
     "exception": false,
     "start_time": "2024-05-04T09:53:20.813269",
     "status": "completed"
    },
    "tags": []
   },
   "source": [
    "### 2. Transactions and Total Amounts with Fraud:"
   ]
  },
  {
   "cell_type": "code",
   "execution_count": 13,
   "id": "a2a16c48",
   "metadata": {
    "execution": {
     "iopub.execute_input": "2024-05-04T09:53:20.884285Z",
     "iopub.status.busy": "2024-05-04T09:53:20.883824Z",
     "iopub.status.idle": "2024-05-04T09:53:20.916097Z",
     "shell.execute_reply": "2024-05-04T09:53:20.914836Z"
    },
    "papermill": {
     "duration": 0.060609,
     "end_time": "2024-05-04T09:53:20.918871",
     "exception": false,
     "start_time": "2024-05-04T09:53:20.858262",
     "status": "completed"
    },
    "tags": []
   },
   "outputs": [],
   "source": [
    "result2 = spark.sql('select isFraud, count(*) as count from temp_table group by isFraud')"
   ]
  },
  {
   "cell_type": "code",
   "execution_count": 14,
   "id": "ade84e87",
   "metadata": {
    "execution": {
     "iopub.execute_input": "2024-05-04T09:53:20.989046Z",
     "iopub.status.busy": "2024-05-04T09:53:20.987558Z",
     "iopub.status.idle": "2024-05-04T09:53:28.103254Z",
     "shell.execute_reply": "2024-05-04T09:53:28.101869Z"
    },
    "papermill": {
     "duration": 7.155069,
     "end_time": "2024-05-04T09:53:28.107131",
     "exception": false,
     "start_time": "2024-05-04T09:53:20.952062",
     "status": "completed"
    },
    "tags": []
   },
   "outputs": [
    {
     "name": "stderr",
     "output_type": "stream",
     "text": [
      "[Stage 11:==============>                                           (1 + 3) / 4]\r"
     ]
    },
    {
     "name": "stdout",
     "output_type": "stream",
     "text": [
      "+-------+-------+\n",
      "|isFraud|  count|\n",
      "+-------+-------+\n",
      "|      1|   8213|\n",
      "|      0|6354407|\n",
      "+-------+-------+\n",
      "\n"
     ]
    },
    {
     "name": "stderr",
     "output_type": "stream",
     "text": [
      "                                                                                \r"
     ]
    }
   ],
   "source": [
    "result2.show()"
   ]
  },
  {
   "cell_type": "code",
   "execution_count": 15,
   "id": "f4a46e7c",
   "metadata": {
    "execution": {
     "iopub.execute_input": "2024-05-04T09:53:28.179211Z",
     "iopub.status.busy": "2024-05-04T09:53:28.178697Z",
     "iopub.status.idle": "2024-05-04T09:53:34.837968Z",
     "shell.execute_reply": "2024-05-04T09:53:34.836779Z"
    },
    "papermill": {
     "duration": 6.697416,
     "end_time": "2024-05-04T09:53:34.840975",
     "exception": false,
     "start_time": "2024-05-04T09:53:28.143559",
     "status": "completed"
    },
    "tags": []
   },
   "outputs": [
    {
     "name": "stderr",
     "output_type": "stream",
     "text": [
      "                                                                                \r"
     ]
    }
   ],
   "source": [
    "result2 = result2.toPandas()"
   ]
  },
  {
   "cell_type": "code",
   "execution_count": 16,
   "id": "09e41ac1",
   "metadata": {
    "execution": {
     "iopub.execute_input": "2024-05-04T09:53:34.912406Z",
     "iopub.status.busy": "2024-05-04T09:53:34.911281Z",
     "iopub.status.idle": "2024-05-04T09:53:34.920825Z",
     "shell.execute_reply": "2024-05-04T09:53:34.919555Z"
    },
    "papermill": {
     "duration": 0.049613,
     "end_time": "2024-05-04T09:53:34.924589",
     "exception": false,
     "start_time": "2024-05-04T09:53:34.874976",
     "status": "completed"
    },
    "tags": []
   },
   "outputs": [],
   "source": [
    "result2['isFraud'] = result2['isFraud'].replace({0: 'Non-fraud', 1: 'Fraud'})"
   ]
  },
  {
   "cell_type": "code",
   "execution_count": 17,
   "id": "7979d7b7",
   "metadata": {
    "execution": {
     "iopub.execute_input": "2024-05-04T09:53:34.994973Z",
     "iopub.status.busy": "2024-05-04T09:53:34.993960Z",
     "iopub.status.idle": "2024-05-04T09:53:35.236503Z",
     "shell.execute_reply": "2024-05-04T09:53:35.234983Z"
    },
    "papermill": {
     "duration": 0.281711,
     "end_time": "2024-05-04T09:53:35.239783",
     "exception": false,
     "start_time": "2024-05-04T09:53:34.958072",
     "status": "completed"
    },
    "tags": []
   },
   "outputs": [
    {
     "data": {
      "image/png": "[encoded data removed]",
      "text/plain": [
       "<Figure size 600x600 with 1 Axes>"
      ]
     },
     "metadata": {},
     "output_type": "display_data"
    }
   ],
   "source": [
    "plt.figure(figsize = (6,6))\n",
    "plt.pie(result2['count'], labels = result2['isFraud'], autopct='%1.1f%%')\n",
    "plt.legend()\n",
    "plt.title('Ratio of The Number of Fraud and Non-fraud Transactions')\n",
    "plt.show()"
   ]
  },
  {
   "cell_type": "markdown",
   "id": "00625aad",
   "metadata": {
    "papermill": {
     "duration": 0.023691,
     "end_time": "2024-05-04T09:53:35.297782",
     "exception": false,
     "start_time": "2024-05-04T09:53:35.274091",
     "status": "completed"
    },
    "tags": []
   },
   "source": [
    "### 3. Balance Difference with Fraud:"
   ]
  },
  {
   "cell_type": "code",
   "execution_count": 18,
   "id": "4d2fa079",
   "metadata": {
    "execution": {
     "iopub.execute_input": "2024-05-04T09:53:35.347317Z",
     "iopub.status.busy": "2024-05-04T09:53:35.346877Z",
     "iopub.status.idle": "2024-05-04T09:53:35.403045Z",
     "shell.execute_reply": "2024-05-04T09:53:35.401783Z"
    },
    "papermill": {
     "duration": 0.08517,
     "end_time": "2024-05-04T09:53:35.406850",
     "exception": false,
     "start_time": "2024-05-04T09:53:35.321680",
     "status": "completed"
    },
    "tags": []
   },
   "outputs": [],
   "source": [
    "df = df.withColumn(\"balanceDifference\", expr(\"oldbalanceOrg - newbalanceOrig\"))"
   ]
  },
  {
   "cell_type": "code",
   "execution_count": 19,
   "id": "06c035e4",
   "metadata": {
    "execution": {
     "iopub.execute_input": "2024-05-04T09:53:35.559875Z",
     "iopub.status.busy": "2024-05-04T09:53:35.559304Z",
     "iopub.status.idle": "2024-05-04T09:53:35.616840Z",
     "shell.execute_reply": "2024-05-04T09:53:35.615451Z"
    },
    "papermill": {
     "duration": 0.097516,
     "end_time": "2024-05-04T09:53:35.620375",
     "exception": false,
     "start_time": "2024-05-04T09:53:35.522859",
     "status": "completed"
    },
    "tags": []
   },
   "outputs": [],
   "source": [
    "df.createOrReplaceTempView('temp_table')"
   ]
  },
  {
   "cell_type": "code",
   "execution_count": 20,
   "id": "58d40ab9",
   "metadata": {
    "execution": {
     "iopub.execute_input": "2024-05-04T09:53:35.690579Z",
     "iopub.status.busy": "2024-05-04T09:53:35.689942Z",
     "iopub.status.idle": "2024-05-04T09:53:35.981379Z",
     "shell.execute_reply": "2024-05-04T09:53:35.980142Z"
    },
    "papermill": {
     "duration": 0.329955,
     "end_time": "2024-05-04T09:53:35.984688",
     "exception": false,
     "start_time": "2024-05-04T09:53:35.654733",
     "status": "completed"
    },
    "tags": []
   },
   "outputs": [
    {
     "name": "stdout",
     "output_type": "stream",
     "text": [
      "+----+--------+---------+-----------+-------------+--------------+-----------+--------------+--------------+-------+--------------+------------------+\n",
      "|step|    type|   amount|   nameOrig|oldbalanceOrg|newbalanceOrig|   nameDest|oldbalanceDest|newbalanceDest|isFraud|isFlaggedFraud| balanceDifference|\n",
      "+----+--------+---------+-----------+-------------+--------------+-----------+--------------+--------------+-------+--------------+------------------+\n",
      "|   1| PAYMENT|  9839.64|C1231006815|     170136.0|     160296.36|M1979787155|           0.0|           0.0|      0|             0| 9839.640000000014|\n",
      "|   1| PAYMENT|  1864.28|C1666544295|      21249.0|      19384.72|M2044282225|           0.0|           0.0|      0|             0|1864.2799999999988|\n",
      "|   1|TRANSFER|    181.0|C1305486145|        181.0|           0.0| C553264065|           0.0|           0.0|      1|             0|             181.0|\n",
      "|   1|CASH_OUT|    181.0| C840083671|        181.0|           0.0|  C38997010|       21182.0|           0.0|      1|             0|             181.0|\n",
      "|   1| PAYMENT| 11668.14|C2048537720|      41554.0|      29885.86|M1230701703|           0.0|           0.0|      0|             0|          11668.14|\n",
      "|   1| PAYMENT|  7817.71|  C90045638|      53860.0|      46042.29| M573487274|           0.0|           0.0|      0|             0| 7817.709999999999|\n",
      "|   1| PAYMENT|  7107.77| C154988899|     183195.0|     176087.23| M408069119|           0.0|           0.0|      0|             0|7107.7699999999895|\n",
      "|   1| PAYMENT|  7861.64|C1912850431|    176087.23|     168225.59| M633326333|           0.0|           0.0|      0|             0| 7861.640000000014|\n",
      "|   1| PAYMENT|  4024.36|C1265012928|       2671.0|           0.0|M1176932104|           0.0|           0.0|      0|             0|            2671.0|\n",
      "|   1|   DEBIT|  5337.77| C712410124|      41720.0|      36382.23| C195600860|       41898.0|      40348.79|      0|             0| 5337.769999999997|\n",
      "|   1|   DEBIT|  9644.94|C1900366749|       4465.0|           0.0| C997608398|       10845.0|     157982.12|      0|             0|            4465.0|\n",
      "|   1| PAYMENT|  3099.97| C249177573|      20771.0|      17671.03|M2096539129|           0.0|           0.0|      0|             0| 3099.970000000001|\n",
      "|   1| PAYMENT|  2560.74|C1648232591|       5070.0|       2509.26| M972865270|           0.0|           0.0|      0|             0|           2560.74|\n",
      "|   1| PAYMENT| 11633.76|C1716932897|      10127.0|           0.0| M801569151|           0.0|           0.0|      0|             0|           10127.0|\n",
      "|   1| PAYMENT|  4098.78|C1026483832|     503264.0|     499165.22|M1635378213|           0.0|           0.0|      0|             0| 4098.780000000028|\n",
      "|   1|CASH_OUT|229133.94| C905080434|      15325.0|           0.0| C476402209|        5083.0|      51513.44|      0|             0|           15325.0|\n",
      "|   1| PAYMENT|  1563.82| C761750706|        450.0|           0.0|M1731217984|           0.0|           0.0|      0|             0|             450.0|\n",
      "|   1| PAYMENT|  1157.86|C1237762639|      21156.0|      19998.14|M1877062907|           0.0|           0.0|      0|             0|1157.8600000000006|\n",
      "|   1| PAYMENT|   671.64|C2033524545|      15123.0|      14451.36| M473053293|           0.0|           0.0|      0|             0| 671.6399999999994|\n",
      "|   1|TRANSFER| 215310.3|C1670993182|        705.0|           0.0|C1100439041|       22425.0|           0.0|      0|             0|             705.0|\n",
      "+----+--------+---------+-----------+-------------+--------------+-----------+--------------+--------------+-------+--------------+------------------+\n",
      "only showing top 20 rows\n",
      "\n"
     ]
    }
   ],
   "source": [
    "df.show()"
   ]
  },
  {
   "cell_type": "code",
   "execution_count": 21,
   "id": "3221ff71",
   "metadata": {
    "execution": {
     "iopub.execute_input": "2024-05-04T09:53:36.057495Z",
     "iopub.status.busy": "2024-05-04T09:53:36.056911Z",
     "iopub.status.idle": "2024-05-04T09:53:36.080316Z",
     "shell.execute_reply": "2024-05-04T09:53:36.078952Z"
    },
    "papermill": {
     "duration": 0.063493,
     "end_time": "2024-05-04T09:53:36.084024",
     "exception": false,
     "start_time": "2024-05-04T09:53:36.020531",
     "status": "completed"
    },
    "tags": []
   },
   "outputs": [],
   "source": [
    "result3 = spark.sql(\"SELECT balanceDifference, isFraud FROM temp_table\")"
   ]
  },
  {
   "cell_type": "code",
   "execution_count": 22,
   "id": "92cefb58",
   "metadata": {
    "execution": {
     "iopub.execute_input": "2024-05-04T09:53:36.158238Z",
     "iopub.status.busy": "2024-05-04T09:53:36.157686Z",
     "iopub.status.idle": "2024-05-04T09:54:26.776768Z",
     "shell.execute_reply": "2024-05-04T09:54:26.775461Z"
    },
    "papermill": {
     "duration": 50.661365,
     "end_time": "2024-05-04T09:54:26.779960",
     "exception": false,
     "start_time": "2024-05-04T09:53:36.118595",
     "status": "completed"
    },
    "tags": []
   },
   "outputs": [
    {
     "name": "stderr",
     "output_type": "stream",
     "text": [
      "                                                                                \r"
     ]
    }
   ],
   "source": [
    "result3 = result3.toPandas()"
   ]
  },
  {
   "cell_type": "code",
   "execution_count": 23,
   "id": "eb0978ec",
   "metadata": {
    "execution": {
     "iopub.execute_input": "2024-05-04T09:54:26.832530Z",
     "iopub.status.busy": "2024-05-04T09:54:26.832129Z",
     "iopub.status.idle": "2024-05-04T09:54:59.067430Z",
     "shell.execute_reply": "2024-05-04T09:54:59.065411Z"
    },
    "papermill": {
     "duration": 32.29824,
     "end_time": "2024-05-04T09:54:59.103679",
     "exception": false,
     "start_time": "2024-05-04T09:54:26.805439",
     "status": "completed"
    },
    "tags": []
   },
   "outputs": [
    {
     "name": "stderr",
     "output_type": "stream",
     "text": [
      "/tmp/ipykernel_18/2898975338.py:3: FutureWarning: \n",
      "\n",
      "`shade` is now deprecated in favor of `fill`; setting `fill=True`.\n",
      "This will become an error in seaborn v0.14.0; please update your code.\n",
      "\n",
      "  sns.kdeplot(result3.loc[result3['isFraud'] == 1, 'balanceDifference'], label='Fraud', shade=True)\n",
      "/opt/conda/lib/python3.10/site-packages/seaborn/_oldcore.py:1119: FutureWarning: use_inf_as_na option is deprecated and will be removed in a future version. Convert inf values to NaN before operating instead.\n",
      "  with pd.option_context('mode.use_inf_as_na', True):\n",
      "/tmp/ipykernel_18/2898975338.py:4: FutureWarning: \n",
      "\n",
      "`shade` is now deprecated in favor of `fill`; setting `fill=True`.\n",
      "This will become an error in seaborn v0.14.0; please update your code.\n",
      "\n",
      "  sns.kdeplot(result3.loc[result3['isFraud'] == 0, 'balanceDifference'], label='Non_fraud', shade=True)\n",
      "/opt/conda/lib/python3.10/site-packages/seaborn/_oldcore.py:1119: FutureWarning: use_inf_as_na option is deprecated and will be removed in a future version. Convert inf values to NaN before operating instead.\n",
      "  with pd.option_context('mode.use_inf_as_na', True):\n"
     ]
    },
    {
     "data": {
      "image/png": "[encoded data removed]",
      "text/plain": [
       "<Figure size 1000x600 with 1 Axes>"
      ]
     },
     "metadata": {},
     "output_type": "display_data"
    }
   ],
   "source": [
    "# Vẽ biểu đồ KDE Plot\n",
    "plt.figure(figsize=(10, 6))\n",
    "sns.kdeplot(result3.loc[result3['isFraud'] == 1, 'balanceDifference'], label='Fraud', shade=True)\n",
    "sns.kdeplot(result3.loc[result3['isFraud'] == 0, 'balanceDifference'], label='Non_fraud', shade=True)\n",
    "plt.title('Phân phối thay đổi số dư giao dịch theo trạng thái gian lận')\n",
    "plt.xlabel('Thay đổi số dư giao dịch')\n",
    "plt.ylabel('Tần suất')\n",
    "plt.legend()\n",
    "plt.show()"
   ]
  },
  {
   "cell_type": "code",
   "execution_count": 24,
   "id": "b47e8d61",
   "metadata": {
    "execution": {
     "iopub.execute_input": "2024-05-04T09:54:59.157936Z",
     "iopub.status.busy": "2024-05-04T09:54:59.157415Z",
     "iopub.status.idle": "2024-05-04T09:54:59.171967Z",
     "shell.execute_reply": "2024-05-04T09:54:59.170313Z"
    },
    "papermill": {
     "duration": 0.045949,
     "end_time": "2024-05-04T09:54:59.174910",
     "exception": false,
     "start_time": "2024-05-04T09:54:59.128961",
     "status": "completed"
    },
    "tags": []
   },
   "outputs": [
    {
     "name": "stdout",
     "output_type": "stream",
     "text": [
      "root\n",
      " |-- step: integer (nullable = true)\n",
      " |-- type: string (nullable = true)\n",
      " |-- amount: double (nullable = true)\n",
      " |-- nameOrig: string (nullable = true)\n",
      " |-- oldbalanceOrg: double (nullable = true)\n",
      " |-- newbalanceOrig: double (nullable = true)\n",
      " |-- nameDest: string (nullable = true)\n",
      " |-- oldbalanceDest: double (nullable = true)\n",
      " |-- newbalanceDest: double (nullable = true)\n",
      " |-- isFraud: integer (nullable = true)\n",
      " |-- isFlaggedFraud: integer (nullable = true)\n",
      " |-- balanceDifference: double (nullable = true)\n",
      "\n"
     ]
    }
   ],
   "source": [
    "df.printSchema()"
   ]
  },
  {
   "cell_type": "code",
   "execution_count": null,
   "id": "4e245dc2",
   "metadata": {
    "papermill": {
     "duration": 0.025266,
     "end_time": "2024-05-04T09:54:59.225955",
     "exception": false,
     "start_time": "2024-05-04T09:54:59.200689",
     "status": "completed"
    },
    "tags": []
   },
   "outputs": [],
   "source": []
  },
  {
   "cell_type": "code",
   "execution_count": null,
   "id": "dd162dff",
   "metadata": {
    "papermill": {
     "duration": 0.025157,
     "end_time": "2024-05-04T09:54:59.276582",
     "exception": false,
     "start_time": "2024-05-04T09:54:59.251425",
     "status": "completed"
    },
    "tags": []
   },
   "outputs": [],
   "source": []
  }
 ],
 "metadata": {
  "kaggle": {
   "accelerator": "none",
   "dataSources": [
    {
     "datasetId": 4777938,
     "sourceId": 8092625,
     "sourceType": "datasetVersion"
    }
   ],
   "dockerImageVersionId": 30698,
   "isGpuEnabled": false,
   "isInternetEnabled": true,
   "language": "python",
   "sourceType": "notebook"
  },
  "kernelspec": {
   "display_name": "Python 3",
   "language": "python",
   "name": "python3"
  },
  "language_info": {
   "codemirror_mode": {
    "name": "ipython",
    "version": 3
   },
   "file_extension": ".py",
   "mimetype": "text/x-python",
   "name": "python",
   "nbconvert_exporter": "python",
   "pygments_lexer": "ipython3",
   "version": "3.10.13"
  },
  "papermill": {
   "default_parameters": {},
   "duration": 214.754851,
   "end_time": "2024-05-04T09:55:01.927328",
   "environment_variables": {},
   "exception": null,
   "input_path": "__notebook__.ipynb",
   "output_path": "__notebook__.ipynb",
   "parameters": {},
   "start_time": "2024-05-04T09:51:27.172477",
   "version": "2.5.0"
  }
 },
 "nbformat": 4,
 "nbformat_minor": 5
}
