{
 "cells": [
  {
   "cell_type": "code",
   "execution_count": 1,
   "id": "f6118019",
   "metadata": {
    "execution": {
     "iopub.execute_input": "2024-05-04T09:21:44.638332Z",
     "iopub.status.busy": "2024-05-04T09:21:44.637915Z",
     "iopub.status.idle": "2024-05-04T09:22:42.702539Z",
     "shell.execute_reply": "2024-05-04T09:22:42.700966Z"
    },
    "papermill": {
     "duration": 58.085275,
     "end_time": "2024-05-04T09:22:42.705446",
     "exception": false,
     "start_time": "2024-05-04T09:21:44.620171",
     "status": "completed"
    },
    "tags": []
   },
   "outputs": [
    {
     "name": "stdout",
     "output_type": "stream",
     "text": [
      "Collecting pyspark\r\n",
      "  Downloading pyspark-3.5.1.tar.gz (317.0 MB)\r\n",
      "\u001b[2K     \u001b[90m━━━━━━━━━━━━━━━━━━━━━━━━━━━━━━━━━━━━━━━\u001b[0m \u001b[32m317.0/317.0 MB\u001b[0m \u001b[31m4.4 MB/s\u001b[0m eta \u001b[36m0:00:00\u001b[0m\r\n",
      "\u001b[?25h  Preparing metadata (setup.py) ... \u001b[?25l-\b \b\\\b \bdone\r\n",
      "\u001b[?25hRequirement already satisfied: py4j==0.10.9.7 in /opt/conda/lib/python3.10/site-packages (from pyspark) (0.10.9.7)\r\n",
      "Building wheels for collected packages: pyspark\r\n",
      "  Building wheel for pyspark (setup.py) ... \u001b[?25l-\b \b\\\b \b|\b \bdone\r\n",
      "\u001b[?25h  Created wheel for pyspark: filename=pyspark-3.5.1-py2.py3-none-any.whl size=317488493 sha256=bce8ad9ddcdc2ab1eb1ad27fc4efe0de930e648741d92b08cc670986cdd8555f\r\n",
      "  Stored in directory: /root/.cache/pip/wheels/80/1d/60/2c256ed38dddce2fdd93be545214a63e02fbd8d74fb0b7f3a6\r\n",
      "Successfully built pyspark\r\n",
      "Installing collected packages: pyspark\r\n",
      "Successfully installed pyspark-3.5.1\r\n"
     ]
    }
   ],
   "source": [
    "!pip install pyspark"
   ]
  },
  {
   "cell_type": "code",
   "execution_count": 2,
   "id": "135aec73",
   "metadata": {
    "execution": {
     "iopub.execute_input": "2024-05-04T09:22:42.760022Z",
     "iopub.status.busy": "2024-05-04T09:22:42.758986Z",
     "iopub.status.idle": "2024-05-04T09:22:58.797661Z",
     "shell.execute_reply": "2024-05-04T09:22:58.796067Z"
    },
    "papermill": {
     "duration": 16.069628,
     "end_time": "2024-05-04T09:22:58.800446",
     "exception": false,
     "start_time": "2024-05-04T09:22:42.730818",
     "status": "completed"
    },
    "tags": []
   },
   "outputs": [
    {
     "name": "stdout",
     "output_type": "stream",
     "text": [
      "Collecting dtreeviz\r\n",
      "  Downloading dtreeviz-2.2.2-py3-none-any.whl.metadata (2.4 kB)\r\n",
      "Requirement already satisfied: graphviz>=0.9 in /opt/conda/lib/python3.10/site-packages (from dtreeviz) (0.20.3)\r\n",
      "Requirement already satisfied: pandas in /opt/conda/lib/python3.10/site-packages (from dtreeviz) (2.2.1)\r\n",
      "Requirement already satisfied: numpy in /opt/conda/lib/python3.10/site-packages (from dtreeviz) (1.26.4)\r\n",
      "Requirement already satisfied: scikit-learn in /opt/conda/lib/python3.10/site-packages (from dtreeviz) (1.2.2)\r\n",
      "Requirement already satisfied: matplotlib in /opt/conda/lib/python3.10/site-packages (from dtreeviz) (3.7.5)\r\n",
      "Collecting colour (from dtreeviz)\r\n",
      "  Downloading colour-0.1.5-py2.py3-none-any.whl.metadata (18 kB)\r\n",
      "Requirement already satisfied: pytest in /opt/conda/lib/python3.10/site-packages (from dtreeviz) (8.1.1)\r\n",
      "Requirement already satisfied: contourpy>=1.0.1 in /opt/conda/lib/python3.10/site-packages (from matplotlib->dtreeviz) (1.2.0)\r\n",
      "Requirement already satisfied: cycler>=0.10 in /opt/conda/lib/python3.10/site-packages (from matplotlib->dtreeviz) (0.12.1)\r\n",
      "Requirement already satisfied: fonttools>=4.22.0 in /opt/conda/lib/python3.10/site-packages (from matplotlib->dtreeviz) (4.47.0)\r\n",
      "Requirement already satisfied: kiwisolver>=1.0.1 in /opt/conda/lib/python3.10/site-packages (from matplotlib->dtreeviz) (1.4.5)\r\n",
      "Requirement already satisfied: packaging>=20.0 in /opt/conda/lib/python3.10/site-packages (from matplotlib->dtreeviz) (21.3)\r\n",
      "Requirement already satisfied: pillow>=6.2.0 in /opt/conda/lib/python3.10/site-packages (from matplotlib->dtreeviz) (9.5.0)\r\n",
      "Requirement already satisfied: pyparsing>=2.3.1 in /opt/conda/lib/python3.10/site-packages (from matplotlib->dtreeviz) (3.1.1)\r\n",
      "Requirement already satisfied: python-dateutil>=2.7 in /opt/conda/lib/python3.10/site-packages (from matplotlib->dtreeviz) (2.9.0.post0)\r\n",
      "Requirement already satisfied: pytz>=2020.1 in /opt/conda/lib/python3.10/site-packages (from pandas->dtreeviz) (2023.3.post1)\r\n",
      "Requirement already satisfied: tzdata>=2022.7 in /opt/conda/lib/python3.10/site-packages (from pandas->dtreeviz) (2023.4)\r\n",
      "Requirement already satisfied: iniconfig in /opt/conda/lib/python3.10/site-packages (from pytest->dtreeviz) (2.0.0)\r\n",
      "Requirement already satisfied: pluggy<2.0,>=1.4 in /opt/conda/lib/python3.10/site-packages (from pytest->dtreeviz) (1.4.0)\r\n",
      "Requirement already satisfied: exceptiongroup>=1.0.0rc8 in /opt/conda/lib/python3.10/site-packages (from pytest->dtreeviz) (1.2.0)\r\n",
      "Requirement already satisfied: tomli>=1 in /opt/conda/lib/python3.10/site-packages (from pytest->dtreeviz) (2.0.1)\r\n",
      "Requirement already satisfied: scipy>=1.3.2 in /opt/conda/lib/python3.10/site-packages (from scikit-learn->dtreeviz) (1.11.4)\r\n",
      "Requirement already satisfied: joblib>=1.1.1 in /opt/conda/lib/python3.10/site-packages (from scikit-learn->dtreeviz) (1.3.2)\r\n",
      "Requirement already satisfied: threadpoolctl>=2.0.0 in /opt/conda/lib/python3.10/site-packages (from scikit-learn->dtreeviz) (3.2.0)\r\n",
      "Requirement already satisfied: six>=1.5 in /opt/conda/lib/python3.10/site-packages (from python-dateutil>=2.7->matplotlib->dtreeviz) (1.16.0)\r\n",
      "Downloading dtreeviz-2.2.2-py3-none-any.whl (91 kB)\r\n",
      "\u001b[2K   \u001b[90m━━━━━━━━━━━━━━━━━━━━━━━━━━━━━━━━━━━━━━━━\u001b[0m \u001b[32m91.8/91.8 kB\u001b[0m \u001b[31m4.4 MB/s\u001b[0m eta \u001b[36m0:00:00\u001b[0m\r\n",
      "\u001b[?25hDownloading colour-0.1.5-py2.py3-none-any.whl (23 kB)\r\n",
      "Installing collected packages: colour, dtreeviz\r\n",
      "Successfully installed colour-0.1.5 dtreeviz-2.2.2\r\n"
     ]
    }
   ],
   "source": [
    "!pip install dtreeviz"
   ]
  },
  {
   "cell_type": "code",
   "execution_count": 3,
   "id": "db30bf2e",
   "metadata": {
    "_cell_guid": "b1076dfc-b9ad-4769-8c92-a6c4dae69d19",
    "_uuid": "8f2839f25d086af736a60e9eeb907d3b93b6e0e5",
    "execution": {
     "iopub.execute_input": "2024-05-04T09:22:58.856668Z",
     "iopub.status.busy": "2024-05-04T09:22:58.856176Z",
     "iopub.status.idle": "2024-05-04T09:23:08.533976Z",
     "shell.execute_reply": "2024-05-04T09:23:08.532117Z"
    },
    "papermill": {
     "duration": 9.709664,
     "end_time": "2024-05-04T09:23:08.537122",
     "exception": false,
     "start_time": "2024-05-04T09:22:58.827458",
     "status": "completed"
    },
    "tags": []
   },
   "outputs": [
    {
     "name": "stderr",
     "output_type": "stream",
     "text": [
      "Setting default log level to \"WARN\".\n",
      "To adjust logging level use sc.setLogLevel(newLevel). For SparkR, use setLogLevel(newLevel).\n",
      "24/05/04 09:23:06 WARN NativeCodeLoader: Unable to load native-hadoop library for your platform... using builtin-java classes where applicable\n"
     ]
    }
   ],
   "source": [
    "from pyspark.sql import SparkSession\n",
    "import pyspark.sql.functions as F\n",
    "import pyspark.sql.types as T\n",
    "from pyspark.sql.functions import expr\n",
    "\n",
    "import dtreeviz\n",
    "\n",
    "import matplotlib.pyplot as plt\n",
    "import seaborn as sns\n",
    "import pandas as pd\n",
    "\n",
    "spark = SparkSession.builder.getOrCreate()"
   ]
  },
  {
   "cell_type": "markdown",
   "id": "767b9152",
   "metadata": {
    "papermill": {
     "duration": 0.029555,
     "end_time": "2024-05-04T09:23:08.593718",
     "exception": false,
     "start_time": "2024-05-04T09:23:08.564163",
     "status": "completed"
    },
    "tags": []
   },
   "source": [
    "## 1. Data:"
   ]
  },
  {
   "cell_type": "markdown",
   "id": "41749032",
   "metadata": {
    "papermill": {
     "duration": 0.028815,
     "end_time": "2024-05-04T09:23:08.649936",
     "exception": false,
     "start_time": "2024-05-04T09:23:08.621121",
     "status": "completed"
    },
    "tags": []
   },
   "source": [
    "### 1.1. Read Data:"
   ]
  },
  {
   "cell_type": "code",
   "execution_count": 4,
   "id": "e9a9f76c",
   "metadata": {
    "execution": {
     "iopub.execute_input": "2024-05-04T09:23:08.711190Z",
     "iopub.status.busy": "2024-05-04T09:23:08.710321Z",
     "iopub.status.idle": "2024-05-04T09:23:29.793631Z",
     "shell.execute_reply": "2024-05-04T09:23:29.792320Z"
    },
    "papermill": {
     "duration": 21.117409,
     "end_time": "2024-05-04T09:23:29.796624",
     "exception": false,
     "start_time": "2024-05-04T09:23:08.679215",
     "status": "completed"
    },
    "tags": []
   },
   "outputs": [
    {
     "name": "stderr",
     "output_type": "stream",
     "text": [
      "                                                                                \r"
     ]
    }
   ],
   "source": [
    "# read csv:\n",
    "df = spark.read.csv('/kaggle/input/big-data/PS_20174392719_1491204439457_log.csv', inferSchema=True, header=True)"
   ]
  },
  {
   "cell_type": "code",
   "execution_count": 5,
   "id": "92e7a5c0",
   "metadata": {
    "execution": {
     "iopub.execute_input": "2024-05-04T09:23:29.852644Z",
     "iopub.status.busy": "2024-05-04T09:23:29.852183Z",
     "iopub.status.idle": "2024-05-04T09:23:29.901791Z",
     "shell.execute_reply": "2024-05-04T09:23:29.900744Z"
    },
    "papermill": {
     "duration": 0.080603,
     "end_time": "2024-05-04T09:23:29.904444",
     "exception": false,
     "start_time": "2024-05-04T09:23:29.823841",
     "status": "completed"
    },
    "tags": []
   },
   "outputs": [],
   "source": [
    "df = df.select(\"type\", \"amount\", \"oldbalanceOrg\", \"newbalanceOrig\", \"isFraud\")"
   ]
  },
  {
   "cell_type": "code",
   "execution_count": 6,
   "id": "688c68c5",
   "metadata": {
    "execution": {
     "iopub.execute_input": "2024-05-04T09:23:29.961974Z",
     "iopub.status.busy": "2024-05-04T09:23:29.961580Z",
     "iopub.status.idle": "2024-05-04T09:23:30.421335Z",
     "shell.execute_reply": "2024-05-04T09:23:30.420117Z"
    },
    "papermill": {
     "duration": 0.492931,
     "end_time": "2024-05-04T09:23:30.424814",
     "exception": false,
     "start_time": "2024-05-04T09:23:29.931883",
     "status": "completed"
    },
    "tags": []
   },
   "outputs": [
    {
     "name": "stdout",
     "output_type": "stream",
     "text": [
      "+-------+-------+-------------+--------------+-------+\n",
      "|   type| amount|oldbalanceOrg|newbalanceOrig|isFraud|\n",
      "+-------+-------+-------------+--------------+-------+\n",
      "|PAYMENT|9839.64|     170136.0|     160296.36|      0|\n",
      "|PAYMENT|1864.28|      21249.0|      19384.72|      0|\n",
      "+-------+-------+-------------+--------------+-------+\n",
      "only showing top 2 rows\n",
      "\n"
     ]
    }
   ],
   "source": [
    "df.show(2)"
   ]
  },
  {
   "cell_type": "markdown",
   "id": "e0381831",
   "metadata": {
    "papermill": {
     "duration": 0.026991,
     "end_time": "2024-05-04T09:23:30.487332",
     "exception": false,
     "start_time": "2024-05-04T09:23:30.460341",
     "status": "completed"
    },
    "tags": []
   },
   "source": [
    "### 1.2. Data Preparation:"
   ]
  },
  {
   "cell_type": "code",
   "execution_count": 7,
   "id": "0b9933b5",
   "metadata": {
    "execution": {
     "iopub.execute_input": "2024-05-04T09:23:30.543744Z",
     "iopub.status.busy": "2024-05-04T09:23:30.543179Z",
     "iopub.status.idle": "2024-05-04T09:23:30.580209Z",
     "shell.execute_reply": "2024-05-04T09:23:30.578585Z"
    },
    "papermill": {
     "duration": 0.069529,
     "end_time": "2024-05-04T09:23:30.584008",
     "exception": false,
     "start_time": "2024-05-04T09:23:30.514479",
     "status": "completed"
    },
    "tags": []
   },
   "outputs": [],
   "source": [
    "# train test split:\n",
    "train, test = df.randomSplit([0.7, 0.3], seed = 7)"
   ]
  },
  {
   "cell_type": "code",
   "execution_count": 8,
   "id": "beca0799",
   "metadata": {
    "execution": {
     "iopub.execute_input": "2024-05-04T09:23:30.645053Z",
     "iopub.status.busy": "2024-05-04T09:23:30.644552Z",
     "iopub.status.idle": "2024-05-04T09:24:09.594337Z",
     "shell.execute_reply": "2024-05-04T09:24:09.593057Z"
    },
    "papermill": {
     "duration": 38.987754,
     "end_time": "2024-05-04T09:24:09.602851",
     "exception": false,
     "start_time": "2024-05-04T09:23:30.615097",
     "status": "completed"
    },
    "tags": []
   },
   "outputs": [
    {
     "name": "stderr",
     "output_type": "stream",
     "text": [
      "                                                                                \r"
     ]
    },
    {
     "name": "stdout",
     "output_type": "stream",
     "text": [
      "Train set length: 4451877 records\n"
     ]
    },
    {
     "name": "stderr",
     "output_type": "stream",
     "text": [
      "[Stage 6:==============>                                            (1 + 3) / 4]\r"
     ]
    },
    {
     "name": "stdout",
     "output_type": "stream",
     "text": [
      "Test set length: 1910743 records\n"
     ]
    },
    {
     "name": "stderr",
     "output_type": "stream",
     "text": [
      "                                                                                \r"
     ]
    }
   ],
   "source": [
    "print(f\"Train set length: {train.count()} records\")\n",
    "print(f\"Test set length: {test.count()} records\")"
   ]
  },
  {
   "cell_type": "code",
   "execution_count": 9,
   "id": "710bf099",
   "metadata": {
    "execution": {
     "iopub.execute_input": "2024-05-04T09:24:09.663300Z",
     "iopub.status.busy": "2024-05-04T09:24:09.662893Z",
     "iopub.status.idle": "2024-05-04T09:24:18.287114Z",
     "shell.execute_reply": "2024-05-04T09:24:18.285844Z"
    },
    "papermill": {
     "duration": 8.658141,
     "end_time": "2024-05-04T09:24:18.290846",
     "exception": false,
     "start_time": "2024-05-04T09:24:09.632705",
     "status": "completed"
    },
    "tags": []
   },
   "outputs": [
    {
     "name": "stderr",
     "output_type": "stream",
     "text": [
      "[Stage 9:>                                                          (0 + 1) / 1]\r"
     ]
    },
    {
     "name": "stdout",
     "output_type": "stream",
     "text": [
      "+-------+------+-------------+--------------+-------+\n",
      "|   type|amount|oldbalanceOrg|newbalanceOrig|isFraud|\n",
      "+-------+------+-------------+--------------+-------+\n",
      "|CASH_IN|  1.42|   1270713.41|    1270714.83|      0|\n",
      "|CASH_IN|  4.35|   4136277.22|    4136281.57|      0|\n",
      "+-------+------+-------------+--------------+-------+\n",
      "only showing top 2 rows\n",
      "\n"
     ]
    },
    {
     "name": "stderr",
     "output_type": "stream",
     "text": [
      "                                                                                \r"
     ]
    }
   ],
   "source": [
    "train.show(2)"
   ]
  },
  {
   "cell_type": "code",
   "execution_count": 10,
   "id": "d7a8200b",
   "metadata": {
    "execution": {
     "iopub.execute_input": "2024-05-04T09:24:18.352449Z",
     "iopub.status.busy": "2024-05-04T09:24:18.352046Z",
     "iopub.status.idle": "2024-05-04T09:24:18.405598Z",
     "shell.execute_reply": "2024-05-04T09:24:18.404384Z"
    },
    "papermill": {
     "duration": 0.086333,
     "end_time": "2024-05-04T09:24:18.408684",
     "exception": false,
     "start_time": "2024-05-04T09:24:18.322351",
     "status": "completed"
    },
    "tags": []
   },
   "outputs": [
    {
     "data": {
      "text/plain": [
       "[('type', 'string'),\n",
       " ('amount', 'double'),\n",
       " ('oldbalanceOrg', 'double'),\n",
       " ('newbalanceOrig', 'double'),\n",
       " ('isFraud', 'int')]"
      ]
     },
     "execution_count": 10,
     "metadata": {},
     "output_type": "execute_result"
    }
   ],
   "source": [
    "# dtype:\n",
    "train.dtypes"
   ]
  },
  {
   "cell_type": "code",
   "execution_count": 11,
   "id": "1818aef0",
   "metadata": {
    "execution": {
     "iopub.execute_input": "2024-05-04T09:24:18.468114Z",
     "iopub.status.busy": "2024-05-04T09:24:18.467694Z",
     "iopub.status.idle": "2024-05-04T09:24:18.474004Z",
     "shell.execute_reply": "2024-05-04T09:24:18.472721Z"
    },
    "papermill": {
     "duration": 0.038096,
     "end_time": "2024-05-04T09:24:18.476409",
     "exception": false,
     "start_time": "2024-05-04T09:24:18.438313",
     "status": "completed"
    },
    "tags": []
   },
   "outputs": [],
   "source": [
    "catCols = [x for (x, dataType) in train.dtypes if dataType == 'string']\n",
    "numCols = [x for (x, dataType) in train.dtypes if ((dataType == 'double') & (x != 'isFraud'))]"
   ]
  },
  {
   "cell_type": "code",
   "execution_count": 12,
   "id": "25a34724",
   "metadata": {
    "execution": {
     "iopub.execute_input": "2024-05-04T09:24:18.535655Z",
     "iopub.status.busy": "2024-05-04T09:24:18.535214Z",
     "iopub.status.idle": "2024-05-04T09:24:18.542438Z",
     "shell.execute_reply": "2024-05-04T09:24:18.541185Z"
    },
    "papermill": {
     "duration": 0.040175,
     "end_time": "2024-05-04T09:24:18.544882",
     "exception": false,
     "start_time": "2024-05-04T09:24:18.504707",
     "status": "completed"
    },
    "tags": []
   },
   "outputs": [
    {
     "data": {
      "text/plain": [
       "['amount', 'oldbalanceOrg', 'newbalanceOrig']"
      ]
     },
     "execution_count": 12,
     "metadata": {},
     "output_type": "execute_result"
    }
   ],
   "source": [
    "numCols"
   ]
  },
  {
   "cell_type": "code",
   "execution_count": 13,
   "id": "206686cd",
   "metadata": {
    "execution": {
     "iopub.execute_input": "2024-05-04T09:24:18.603865Z",
     "iopub.status.busy": "2024-05-04T09:24:18.603394Z",
     "iopub.status.idle": "2024-05-04T09:24:18.610009Z",
     "shell.execute_reply": "2024-05-04T09:24:18.608862Z"
    },
    "papermill": {
     "duration": 0.039316,
     "end_time": "2024-05-04T09:24:18.612418",
     "exception": false,
     "start_time": "2024-05-04T09:24:18.573102",
     "status": "completed"
    },
    "tags": []
   },
   "outputs": [
    {
     "data": {
      "text/plain": [
       "['type']"
      ]
     },
     "execution_count": 13,
     "metadata": {},
     "output_type": "execute_result"
    }
   ],
   "source": [
    "catCols"
   ]
  },
  {
   "cell_type": "code",
   "execution_count": 14,
   "id": "f3168f75",
   "metadata": {
    "execution": {
     "iopub.execute_input": "2024-05-04T09:24:18.674732Z",
     "iopub.status.busy": "2024-05-04T09:24:18.674254Z",
     "iopub.status.idle": "2024-05-04T09:24:39.053398Z",
     "shell.execute_reply": "2024-05-04T09:24:39.051827Z"
    },
    "papermill": {
     "duration": 20.414784,
     "end_time": "2024-05-04T09:24:39.057728",
     "exception": false,
     "start_time": "2024-05-04T09:24:18.642944",
     "status": "completed"
    },
    "tags": []
   },
   "outputs": [
    {
     "name": "stderr",
     "output_type": "stream",
     "text": [
      "24/05/04 09:24:27 WARN RowBasedKeyValueBatch: Calling spill() on RowBasedKeyValueBatch. Will not spill but return 0.\n",
      "24/05/04 09:24:28 WARN RowBasedKeyValueBatch: Calling spill() on RowBasedKeyValueBatch. Will not spill but return 0.\n",
      "24/05/04 09:24:28 WARN RowBasedKeyValueBatch: Calling spill() on RowBasedKeyValueBatch. Will not spill but return 0.\n",
      "24/05/04 09:24:28 WARN RowBasedKeyValueBatch: Calling spill() on RowBasedKeyValueBatch. Will not spill but return 0.\n",
      "[Stage 10:=============================>                            (2 + 2) / 4]\r"
     ]
    },
    {
     "name": "stdout",
     "output_type": "stream",
     "text": [
      "+--------------------+\n",
      "|count(DISTINCT type)|\n",
      "+--------------------+\n",
      "|                   5|\n",
      "+--------------------+\n",
      "\n"
     ]
    },
    {
     "name": "stderr",
     "output_type": "stream",
     "text": [
      "                                                                                \r"
     ]
    }
   ],
   "source": [
    "# One hot Encoding:\n",
    "train.agg(F.countDistinct('type')).show()"
   ]
  },
  {
   "cell_type": "code",
   "execution_count": 15,
   "id": "e3f47817",
   "metadata": {
    "execution": {
     "iopub.execute_input": "2024-05-04T09:24:39.121459Z",
     "iopub.status.busy": "2024-05-04T09:24:39.121038Z",
     "iopub.status.idle": "2024-05-04T09:24:56.680317Z",
     "shell.execute_reply": "2024-05-04T09:24:56.678627Z"
    },
    "papermill": {
     "duration": 17.595027,
     "end_time": "2024-05-04T09:24:56.684501",
     "exception": false,
     "start_time": "2024-05-04T09:24:39.089474",
     "status": "completed"
    },
    "tags": []
   },
   "outputs": [
    {
     "name": "stderr",
     "output_type": "stream",
     "text": [
      "24/05/04 09:24:46 WARN RowBasedKeyValueBatch: Calling spill() on RowBasedKeyValueBatch. Will not spill but return 0.\n",
      "24/05/04 09:24:47 WARN RowBasedKeyValueBatch: Calling spill() on RowBasedKeyValueBatch. Will not spill but return 0.\n",
      "24/05/04 09:24:47 WARN RowBasedKeyValueBatch: Calling spill() on RowBasedKeyValueBatch. Will not spill but return 0.\n",
      "24/05/04 09:24:47 WARN RowBasedKeyValueBatch: Calling spill() on RowBasedKeyValueBatch. Will not spill but return 0.\n",
      "[Stage 16:===========================================>              (3 + 1) / 4]\r"
     ]
    },
    {
     "name": "stdout",
     "output_type": "stream",
     "text": [
      "+--------+-------+\n",
      "|    type|  count|\n",
      "+--------+-------+\n",
      "|TRANSFER| 372791|\n",
      "| CASH_IN| 979384|\n",
      "|CASH_OUT|1565928|\n",
      "| PAYMENT|1504894|\n",
      "|   DEBIT|  28880|\n",
      "+--------+-------+\n",
      "\n"
     ]
    },
    {
     "name": "stderr",
     "output_type": "stream",
     "text": [
      "                                                                                \r"
     ]
    }
   ],
   "source": [
    "train.groupBy('type').count().show()"
   ]
  },
  {
   "cell_type": "code",
   "execution_count": 16,
   "id": "5712b942",
   "metadata": {
    "execution": {
     "iopub.execute_input": "2024-05-04T09:24:56.862499Z",
     "iopub.status.busy": "2024-05-04T09:24:56.861820Z",
     "iopub.status.idle": "2024-05-04T09:24:57.120556Z",
     "shell.execute_reply": "2024-05-04T09:24:57.119356Z"
    },
    "papermill": {
     "duration": 0.306754,
     "end_time": "2024-05-04T09:24:57.124026",
     "exception": false,
     "start_time": "2024-05-04T09:24:56.817272",
     "status": "completed"
    },
    "tags": []
   },
   "outputs": [],
   "source": [
    "from pyspark.ml.feature import OneHotEncoder, StringIndexer "
   ]
  },
  {
   "cell_type": "code",
   "execution_count": 17,
   "id": "0823dfea",
   "metadata": {
    "execution": {
     "iopub.execute_input": "2024-05-04T09:24:57.217337Z",
     "iopub.status.busy": "2024-05-04T09:24:57.216804Z",
     "iopub.status.idle": "2024-05-04T09:24:57.261485Z",
     "shell.execute_reply": "2024-05-04T09:24:57.259856Z"
    },
    "papermill": {
     "duration": 0.094781,
     "end_time": "2024-05-04T09:24:57.264530",
     "exception": false,
     "start_time": "2024-05-04T09:24:57.169749",
     "status": "completed"
    },
    "tags": []
   },
   "outputs": [],
   "source": [
    "string_indexer = [StringIndexer(inputCol = x, outputCol = x + \"_StringIndexer\", handleInvalid=\"skip\") for x in catCols]"
   ]
  },
  {
   "cell_type": "code",
   "execution_count": 18,
   "id": "ca1de3ec",
   "metadata": {
    "execution": {
     "iopub.execute_input": "2024-05-04T09:24:57.329353Z",
     "iopub.status.busy": "2024-05-04T09:24:57.328674Z",
     "iopub.status.idle": "2024-05-04T09:24:57.347825Z",
     "shell.execute_reply": "2024-05-04T09:24:57.346639Z"
    },
    "papermill": {
     "duration": 0.055403,
     "end_time": "2024-05-04T09:24:57.351423",
     "exception": false,
     "start_time": "2024-05-04T09:24:57.296020",
     "status": "completed"
    },
    "tags": []
   },
   "outputs": [],
   "source": [
    "one_hot_encoder = [OneHotEncoder(\n",
    "                        inputCols=[f\"{x}_StringIndexer\" for x in catCols],\n",
    "                        outputCols=[f\"{x}_OneHotEncoder\" for x in catCols],\n",
    "    )\n",
    "]"
   ]
  },
  {
   "cell_type": "code",
   "execution_count": 19,
   "id": "b8cb8481",
   "metadata": {
    "execution": {
     "iopub.execute_input": "2024-05-04T09:24:57.440829Z",
     "iopub.status.busy": "2024-05-04T09:24:57.440194Z",
     "iopub.status.idle": "2024-05-04T09:24:57.447723Z",
     "shell.execute_reply": "2024-05-04T09:24:57.445667Z"
    },
    "papermill": {
     "duration": 0.057899,
     "end_time": "2024-05-04T09:24:57.451813",
     "exception": false,
     "start_time": "2024-05-04T09:24:57.393914",
     "status": "completed"
    },
    "tags": []
   },
   "outputs": [],
   "source": [
    "from pyspark.ml.feature import VectorAssembler"
   ]
  },
  {
   "cell_type": "code",
   "execution_count": 20,
   "id": "8dc06c63",
   "metadata": {
    "execution": {
     "iopub.execute_input": "2024-05-04T09:24:57.515657Z",
     "iopub.status.busy": "2024-05-04T09:24:57.515200Z",
     "iopub.status.idle": "2024-05-04T09:24:57.520835Z",
     "shell.execute_reply": "2024-05-04T09:24:57.519982Z"
    },
    "papermill": {
     "duration": 0.039646,
     "end_time": "2024-05-04T09:24:57.523602",
     "exception": false,
     "start_time": "2024-05-04T09:24:57.483956",
     "status": "completed"
    },
    "tags": []
   },
   "outputs": [],
   "source": [
    "assemblerInput = [x for x in numCols]\n",
    "assemblerInput += [f\"{x}_OneHotEncoder\"for x in catCols]"
   ]
  },
  {
   "cell_type": "code",
   "execution_count": 21,
   "id": "71a86927",
   "metadata": {
    "execution": {
     "iopub.execute_input": "2024-05-04T09:24:57.596765Z",
     "iopub.status.busy": "2024-05-04T09:24:57.595413Z",
     "iopub.status.idle": "2024-05-04T09:24:57.603630Z",
     "shell.execute_reply": "2024-05-04T09:24:57.602424Z"
    },
    "papermill": {
     "duration": 0.043759,
     "end_time": "2024-05-04T09:24:57.606502",
     "exception": false,
     "start_time": "2024-05-04T09:24:57.562743",
     "status": "completed"
    },
    "tags": []
   },
   "outputs": [
    {
     "data": {
      "text/plain": [
       "['amount', 'oldbalanceOrg', 'newbalanceOrig', 'type_OneHotEncoder']"
      ]
     },
     "execution_count": 21,
     "metadata": {},
     "output_type": "execute_result"
    }
   ],
   "source": [
    "assemblerInput"
   ]
  },
  {
   "cell_type": "code",
   "execution_count": 22,
   "id": "e86f29db",
   "metadata": {
    "execution": {
     "iopub.execute_input": "2024-05-04T09:24:57.671019Z",
     "iopub.status.busy": "2024-05-04T09:24:57.670577Z",
     "iopub.status.idle": "2024-05-04T09:24:57.685403Z",
     "shell.execute_reply": "2024-05-04T09:24:57.684487Z"
    },
    "papermill": {
     "duration": 0.050451,
     "end_time": "2024-05-04T09:24:57.688214",
     "exception": false,
     "start_time": "2024-05-04T09:24:57.637763",
     "status": "completed"
    },
    "tags": []
   },
   "outputs": [],
   "source": [
    "vector_assembler = VectorAssembler(inputCols = assemblerInput, outputCol = \"VectorAssembler_features\")"
   ]
  },
  {
   "cell_type": "code",
   "execution_count": 23,
   "id": "798f2dba",
   "metadata": {
    "execution": {
     "iopub.execute_input": "2024-05-04T09:24:57.753590Z",
     "iopub.status.busy": "2024-05-04T09:24:57.752215Z",
     "iopub.status.idle": "2024-05-04T09:24:57.758316Z",
     "shell.execute_reply": "2024-05-04T09:24:57.756813Z"
    },
    "papermill": {
     "duration": 0.042092,
     "end_time": "2024-05-04T09:24:57.761061",
     "exception": false,
     "start_time": "2024-05-04T09:24:57.718969",
     "status": "completed"
    },
    "tags": []
   },
   "outputs": [],
   "source": [
    "stages = []\n",
    "stages += string_indexer\n",
    "stages += one_hot_encoder\n",
    "stages += [vector_assembler]"
   ]
  },
  {
   "cell_type": "code",
   "execution_count": 24,
   "id": "91f55684",
   "metadata": {
    "execution": {
     "iopub.execute_input": "2024-05-04T09:24:57.825320Z",
     "iopub.status.busy": "2024-05-04T09:24:57.824919Z",
     "iopub.status.idle": "2024-05-04T09:24:57.830821Z",
     "shell.execute_reply": "2024-05-04T09:24:57.829997Z"
    },
    "papermill": {
     "duration": 0.041393,
     "end_time": "2024-05-04T09:24:57.833246",
     "exception": false,
     "start_time": "2024-05-04T09:24:57.791853",
     "status": "completed"
    },
    "tags": []
   },
   "outputs": [
    {
     "data": {
      "text/plain": [
       "[StringIndexer_c79e3ffcb2ee,\n",
       " OneHotEncoder_6e89b5cb5bd8,\n",
       " VectorAssembler_b0a2fe60295a]"
      ]
     },
     "execution_count": 24,
     "metadata": {},
     "output_type": "execute_result"
    }
   ],
   "source": [
    "stages"
   ]
  },
  {
   "cell_type": "code",
   "execution_count": 25,
   "id": "a07cca83",
   "metadata": {
    "execution": {
     "iopub.execute_input": "2024-05-04T09:24:57.896048Z",
     "iopub.status.busy": "2024-05-04T09:24:57.895625Z",
     "iopub.status.idle": "2024-05-04T09:25:17.882133Z",
     "shell.execute_reply": "2024-05-04T09:25:17.880901Z"
    },
    "papermill": {
     "duration": 20.021436,
     "end_time": "2024-05-04T09:25:17.885135",
     "exception": false,
     "start_time": "2024-05-04T09:24:57.863699",
     "status": "completed"
    },
    "tags": []
   },
   "outputs": [
    {
     "name": "stderr",
     "output_type": "stream",
     "text": [
      "                                                                                \r"
     ]
    },
    {
     "name": "stdout",
     "output_type": "stream",
     "text": [
      "CPU times: user 28.5 ms, sys: 10.7 ms, total: 39.2 ms\n",
      "Wall time: 20 s\n"
     ]
    }
   ],
   "source": [
    "%%time\n",
    "from pyspark.ml import Pipeline\n",
    "pipeline = Pipeline().setStages(stages)\n",
    "model = pipeline.fit(train)"
   ]
  },
  {
   "cell_type": "code",
   "execution_count": 26,
   "id": "826e76b7",
   "metadata": {
    "execution": {
     "iopub.execute_input": "2024-05-04T09:25:17.954449Z",
     "iopub.status.busy": "2024-05-04T09:25:17.953043Z",
     "iopub.status.idle": "2024-05-04T09:25:27.265296Z",
     "shell.execute_reply": "2024-05-04T09:25:27.262976Z"
    },
    "papermill": {
     "duration": 9.350247,
     "end_time": "2024-05-04T09:25:27.269358",
     "exception": false,
     "start_time": "2024-05-04T09:25:17.919111",
     "status": "completed"
    },
    "tags": []
   },
   "outputs": [
    {
     "name": "stderr",
     "output_type": "stream",
     "text": [
      "[Stage 22:>                                                         (0 + 1) / 1]\r"
     ]
    },
    {
     "name": "stdout",
     "output_type": "stream",
     "text": [
      "+-------+------+-------------+--------------+---------------------------------------------------+\n",
      "|type   |amount|oldbalanceOrg|newbalanceOrig|VectorAssembler_features                           |\n",
      "+-------+------+-------------+--------------+---------------------------------------------------+\n",
      "|CASH_IN|4.58  |94241.0      |94245.58      |[4.58,94241.0,94245.58,0.0,0.0,1.0,0.0]            |\n",
      "|CASH_IN|5.44  |0.0          |5.44          |(7,[0,2,5],[5.44,5.44,1.0])                        |\n",
      "|CASH_IN|6.07  |400680.0     |400686.07     |[6.07,400680.0,400686.07,0.0,0.0,1.0,0.0]          |\n",
      "|CASH_IN|6.76  |11322.0      |11328.76      |[6.76,11322.0,11328.76,0.0,0.0,1.0,0.0]            |\n",
      "|CASH_IN|8.27  |8428410.94   |8428419.21    |[8.27,8428410.94,8428419.21,0.0,0.0,1.0,0.0]       |\n",
      "|CASH_IN|8.44  |39384.0      |39392.44      |[8.44,39384.0,39392.44,0.0,0.0,1.0,0.0]            |\n",
      "|CASH_IN|11.13 |4116439.74   |4116450.87    |[11.13,4116439.74,4116450.87,0.0,0.0,1.0,0.0]      |\n",
      "|CASH_IN|12.79 |601743.0     |601755.79     |[12.79,601743.0,601755.79,0.0,0.0,1.0,0.0]         |\n",
      "|CASH_IN|13.86 |6868100.18   |6868114.04    |[13.86,6868100.18,6868114.04,0.0,0.0,1.0,0.0]      |\n",
      "|CASH_IN|14.54 |3347286.5    |3347301.03    |[14.54,3347286.5,3347301.03,0.0,0.0,1.0,0.0]       |\n",
      "|CASH_IN|15.52 |4368030.06   |4368045.59    |[15.52,4368030.06,4368045.59,0.0,0.0,1.0,0.0]      |\n",
      "|CASH_IN|15.59 |1.64294897E7 |1.642950528E7 |[15.59,1.64294897E7,1.642950528E7,0.0,0.0,1.0,0.0] |\n",
      "|CASH_IN|16.3  |2.140511936E7|2.140513566E7 |[16.3,2.140511936E7,2.140513566E7,0.0,0.0,1.0,0.0] |\n",
      "|CASH_IN|18.53 |951352.78    |951371.31     |[18.53,951352.78,951371.31,0.0,0.0,1.0,0.0]        |\n",
      "|CASH_IN|20.34 |991344.41    |991364.74     |[20.34,991344.41,991364.74,0.0,0.0,1.0,0.0]        |\n",
      "|CASH_IN|22.81 |875946.0     |875968.82     |[22.81,875946.0,875968.82,0.0,0.0,1.0,0.0]         |\n",
      "|CASH_IN|23.14 |1.400007828E7|1.400010142E7 |[23.14,1.400007828E7,1.400010142E7,0.0,0.0,1.0,0.0]|\n",
      "|CASH_IN|24.2  |1.803342949E7|1.803345368E7 |[24.2,1.803342949E7,1.803345368E7,0.0,0.0,1.0,0.0] |\n",
      "|CASH_IN|31.24 |223910.75    |223941.98     |[31.24,223910.75,223941.98,0.0,0.0,1.0,0.0]        |\n",
      "|CASH_IN|34.05 |90282.0      |90316.05      |[34.05,90282.0,90316.05,0.0,0.0,1.0,0.0]           |\n",
      "+-------+------+-------------+--------------+---------------------------------------------------+\n",
      "only showing top 20 rows\n",
      "\n"
     ]
    },
    {
     "name": "stderr",
     "output_type": "stream",
     "text": [
      "                                                                                \r"
     ]
    }
   ],
   "source": [
    "pp_df = model.transform(test)\n",
    "pp_df.select(\"type\", \"amount\", \"oldbalanceOrg\", \"newbalanceOrig\", \"VectorAssembler_features\").show(truncate=False)"
   ]
  },
  {
   "cell_type": "markdown",
   "id": "b0cf7589",
   "metadata": {
    "papermill": {
     "duration": 0.056619,
     "end_time": "2024-05-04T09:25:27.374684",
     "exception": false,
     "start_time": "2024-05-04T09:25:27.318065",
     "status": "completed"
    },
    "tags": []
   },
   "source": [
    "## 2. Model:"
   ]
  },
  {
   "cell_type": "markdown",
   "id": "a38dc3a0",
   "metadata": {
    "papermill": {
     "duration": 0.059835,
     "end_time": "2024-05-04T09:25:27.501148",
     "exception": false,
     "start_time": "2024-05-04T09:25:27.441313",
     "status": "completed"
    },
    "tags": []
   },
   "source": [
    "### 1. Logistic Regression:"
   ]
  },
  {
   "cell_type": "code",
   "execution_count": 27,
   "id": "42b2917d",
   "metadata": {
    "execution": {
     "iopub.execute_input": "2024-05-04T09:25:27.569207Z",
     "iopub.status.busy": "2024-05-04T09:25:27.568797Z",
     "iopub.status.idle": "2024-05-04T09:25:27.573648Z",
     "shell.execute_reply": "2024-05-04T09:25:27.572665Z"
    },
    "papermill": {
     "duration": 0.039584,
     "end_time": "2024-05-04T09:25:27.575787",
     "exception": false,
     "start_time": "2024-05-04T09:25:27.536203",
     "status": "completed"
    },
    "tags": []
   },
   "outputs": [],
   "source": [
    "from pyspark.ml.classification import LogisticRegression\n",
    "from pyspark.ml.classification import DecisionTreeClassifier"
   ]
  },
  {
   "cell_type": "code",
   "execution_count": 28,
   "id": "999bbac9",
   "metadata": {
    "execution": {
     "iopub.execute_input": "2024-05-04T09:25:27.640816Z",
     "iopub.status.busy": "2024-05-04T09:25:27.640089Z",
     "iopub.status.idle": "2024-05-04T09:25:27.670832Z",
     "shell.execute_reply": "2024-05-04T09:25:27.669407Z"
    },
    "papermill": {
     "duration": 0.067306,
     "end_time": "2024-05-04T09:25:27.674384",
     "exception": false,
     "start_time": "2024-05-04T09:25:27.607078",
     "status": "completed"
    },
    "tags": []
   },
   "outputs": [],
   "source": [
    "data = pp_df.select(\n",
    "    F.col(\"VectorAssembler_features\").alias(\"features\"),\n",
    "    F.col(\"isFraud\").alias('label'))"
   ]
  },
  {
   "cell_type": "code",
   "execution_count": 29,
   "id": "8a2db854",
   "metadata": {
    "execution": {
     "iopub.execute_input": "2024-05-04T09:25:27.744783Z",
     "iopub.status.busy": "2024-05-04T09:25:27.744345Z",
     "iopub.status.idle": "2024-05-04T09:25:36.276829Z",
     "shell.execute_reply": "2024-05-04T09:25:36.270987Z"
    },
    "papermill": {
     "duration": 8.570878,
     "end_time": "2024-05-04T09:25:36.280777",
     "exception": false,
     "start_time": "2024-05-04T09:25:27.709899",
     "status": "completed"
    },
    "tags": []
   },
   "outputs": [
    {
     "name": "stderr",
     "output_type": "stream",
     "text": [
      "[Stage 23:>                                                         (0 + 1) / 1]\r"
     ]
    },
    {
     "name": "stdout",
     "output_type": "stream",
     "text": [
      "+--------------------------------------------+-----+\n",
      "|features                                    |label|\n",
      "+--------------------------------------------+-----+\n",
      "|[4.58,94241.0,94245.58,0.0,0.0,1.0,0.0]     |0    |\n",
      "|(7,[0,2,5],[5.44,5.44,1.0])                 |0    |\n",
      "|[6.07,400680.0,400686.07,0.0,0.0,1.0,0.0]   |0    |\n",
      "|[6.76,11322.0,11328.76,0.0,0.0,1.0,0.0]     |0    |\n",
      "|[8.27,8428410.94,8428419.21,0.0,0.0,1.0,0.0]|0    |\n",
      "+--------------------------------------------+-----+\n",
      "only showing top 5 rows\n",
      "\n"
     ]
    },
    {
     "name": "stderr",
     "output_type": "stream",
     "text": [
      "                                                                                \r"
     ]
    }
   ],
   "source": [
    "data.show(5, truncate = False)"
   ]
  },
  {
   "cell_type": "code",
   "execution_count": 30,
   "id": "d60ef4c4",
   "metadata": {
    "execution": {
     "iopub.execute_input": "2024-05-04T09:25:36.354277Z",
     "iopub.status.busy": "2024-05-04T09:25:36.353765Z",
     "iopub.status.idle": "2024-05-04T09:26:34.988225Z",
     "shell.execute_reply": "2024-05-04T09:26:34.986756Z"
    },
    "papermill": {
     "duration": 58.671729,
     "end_time": "2024-05-04T09:26:34.992000",
     "exception": false,
     "start_time": "2024-05-04T09:25:36.320271",
     "status": "completed"
    },
    "tags": []
   },
   "outputs": [
    {
     "name": "stderr",
     "output_type": "stream",
     "text": [
      "24/05/04 09:26:02 WARN InstanceBuilder: Failed to load implementation from:dev.ludovic.netlib.blas.JNIBLAS\n",
      "                                                                                \r"
     ]
    },
    {
     "name": "stdout",
     "output_type": "stream",
     "text": [
      "CPU times: user 47.2 ms, sys: 15.1 ms, total: 62.2 ms\n",
      "Wall time: 58.6 s\n"
     ]
    }
   ],
   "source": [
    "%%time\n",
    "model = LogisticRegression().fit(data)"
   ]
  },
  {
   "cell_type": "code",
   "execution_count": 31,
   "id": "702cde3b",
   "metadata": {
    "execution": {
     "iopub.execute_input": "2024-05-04T09:26:35.086779Z",
     "iopub.status.busy": "2024-05-04T09:26:35.085827Z",
     "iopub.status.idle": "2024-05-04T09:27:12.580127Z",
     "shell.execute_reply": "2024-05-04T09:27:12.579228Z"
    },
    "papermill": {
     "duration": 37.545111,
     "end_time": "2024-05-04T09:27:12.583151",
     "exception": false,
     "start_time": "2024-05-04T09:26:35.038040",
     "status": "completed"
    },
    "tags": []
   },
   "outputs": [
    {
     "name": "stderr",
     "output_type": "stream",
     "text": [
      "                                                                                \r"
     ]
    },
    {
     "data": {
      "text/plain": [
       "0.992874229305281"
      ]
     },
     "execution_count": 31,
     "metadata": {},
     "output_type": "execute_result"
    }
   ],
   "source": [
    "model.summary.areaUnderROC"
   ]
  },
  {
   "cell_type": "code",
   "execution_count": 32,
   "id": "0ee3f918",
   "metadata": {
    "execution": {
     "iopub.execute_input": "2024-05-04T09:27:12.654229Z",
     "iopub.status.busy": "2024-05-04T09:27:12.653839Z",
     "iopub.status.idle": "2024-05-04T09:27:34.552948Z",
     "shell.execute_reply": "2024-05-04T09:27:34.551639Z"
    },
    "papermill": {
     "duration": 21.93848,
     "end_time": "2024-05-04T09:27:34.556567",
     "exception": false,
     "start_time": "2024-05-04T09:27:12.618087",
     "status": "completed"
    },
    "tags": []
   },
   "outputs": [
    {
     "name": "stderr",
     "output_type": "stream",
     "text": [
      "                                                                                \r"
     ]
    },
    {
     "data": {
      "text/plain": [
       "0.9991118638142336"
      ]
     },
     "execution_count": 32,
     "metadata": {},
     "output_type": "execute_result"
    }
   ],
   "source": [
    "model.summary.accuracy"
   ]
  },
  {
   "cell_type": "code",
   "execution_count": 33,
   "id": "cb8667b7",
   "metadata": {
    "execution": {
     "iopub.execute_input": "2024-05-04T09:27:34.645836Z",
     "iopub.status.busy": "2024-05-04T09:27:34.645265Z",
     "iopub.status.idle": "2024-05-04T09:27:34.972212Z",
     "shell.execute_reply": "2024-05-04T09:27:34.970916Z"
    },
    "papermill": {
     "duration": 0.371089,
     "end_time": "2024-05-04T09:27:34.976230",
     "exception": false,
     "start_time": "2024-05-04T09:27:34.605141",
     "status": "completed"
    },
    "tags": []
   },
   "outputs": [
    {
     "name": "stdout",
     "output_type": "stream",
     "text": [
      "+------------------+-------------------+\n",
      "|            recall|          precision|\n",
      "+------------------+-------------------+\n",
      "|               0.0| 0.9127789046653144|\n",
      "|0.3598560575769692| 0.9127789046653144|\n",
      "|0.4838064774090364| 0.6813063063063063|\n",
      "|0.5501799280287885| 0.5362431800467654|\n",
      "| 0.594562175129948| 0.4430870083432658|\n",
      "|0.6309476209516194|0.38060781476121563|\n",
      "|0.6613354658136745|0.33508914100486226|\n",
      "|0.6889244302279088| 0.3009081383164513|\n",
      "|0.7113154738104758|0.27302025782688766|\n",
      "|0.7305077968812475|0.25006843690117714|\n",
      "|0.7477009196321471|0.23097826086956522|\n",
      "|0.7616953218712516|0.21438217420661715|\n",
      "|0.7752898840463814| 0.2003927242662257|\n",
      "|0.7860855657736905|0.18784635964074145|\n",
      "|0.7968812475009996|0.17706112295664533|\n",
      "|0.8000799680127949|0.16611323260833472|\n",
      "|0.8036785285885646|0.15659083826737302|\n",
      "|0.8096761295481807|0.14861294583883752|\n",
      "|0.8128748500599761|0.14102386237513873|\n",
      "|0.8164734106357457| 0.1342890964093121|\n",
      "+------------------+-------------------+\n",
      "only showing top 20 rows\n",
      "\n"
     ]
    }
   ],
   "source": [
    "model.summary.pr.show()"
   ]
  },
  {
   "cell_type": "code",
   "execution_count": 34,
   "id": "e841c10b",
   "metadata": {
    "execution": {
     "iopub.execute_input": "2024-05-04T09:27:35.056866Z",
     "iopub.status.busy": "2024-05-04T09:27:35.056329Z",
     "iopub.status.idle": "2024-05-04T09:27:36.519835Z",
     "shell.execute_reply": "2024-05-04T09:27:36.517790Z"
    },
    "papermill": {
     "duration": 1.504215,
     "end_time": "2024-05-04T09:27:36.523868",
     "exception": false,
     "start_time": "2024-05-04T09:27:35.019653",
     "status": "completed"
    },
    "tags": []
   },
   "outputs": [
    {
     "name": "stderr",
     "output_type": "stream",
     "text": [
      "                                                                                \r"
     ]
    }
   ],
   "source": [
    "# Save the model\n",
    "model.save(\"Log_model\")"
   ]
  },
  {
   "cell_type": "markdown",
   "id": "a92260f7",
   "metadata": {
    "papermill": {
     "duration": 0.035094,
     "end_time": "2024-05-04T09:27:36.595168",
     "exception": false,
     "start_time": "2024-05-04T09:27:36.560074",
     "status": "completed"
    },
    "tags": []
   },
   "source": [
    "### 2. Decision Tree:"
   ]
  },
  {
   "cell_type": "code",
   "execution_count": 35,
   "id": "03be3972",
   "metadata": {
    "execution": {
     "iopub.execute_input": "2024-05-04T09:27:36.666292Z",
     "iopub.status.busy": "2024-05-04T09:27:36.665861Z",
     "iopub.status.idle": "2024-05-04T09:29:10.291873Z",
     "shell.execute_reply": "2024-05-04T09:29:10.290867Z"
    },
    "papermill": {
     "duration": 93.665155,
     "end_time": "2024-05-04T09:29:10.294821",
     "exception": false,
     "start_time": "2024-05-04T09:27:36.629666",
     "status": "completed"
    },
    "tags": []
   },
   "outputs": [
    {
     "name": "stderr",
     "output_type": "stream",
     "text": [
      "                                                                                \r"
     ]
    },
    {
     "name": "stdout",
     "output_type": "stream",
     "text": [
      "CPU times: user 72.7 ms, sys: 22.7 ms, total: 95.3 ms\n",
      "Wall time: 1min 33s\n"
     ]
    }
   ],
   "source": [
    "%%time\n",
    "model = DecisionTreeClassifier().fit(data)"
   ]
  },
  {
   "cell_type": "code",
   "execution_count": 36,
   "id": "453cfc17",
   "metadata": {
    "execution": {
     "iopub.execute_input": "2024-05-04T09:29:10.373886Z",
     "iopub.status.busy": "2024-05-04T09:29:10.373419Z",
     "iopub.status.idle": "2024-05-04T09:29:10.379409Z",
     "shell.execute_reply": "2024-05-04T09:29:10.377572Z"
    },
    "papermill": {
     "duration": 0.047442,
     "end_time": "2024-05-04T09:29:10.381990",
     "exception": false,
     "start_time": "2024-05-04T09:29:10.334548",
     "status": "completed"
    },
    "tags": []
   },
   "outputs": [],
   "source": [
    "from pyspark.ml.evaluation import MulticlassClassificationEvaluator"
   ]
  },
  {
   "cell_type": "code",
   "execution_count": 37,
   "id": "b88e043e",
   "metadata": {
    "execution": {
     "iopub.execute_input": "2024-05-04T09:29:10.485029Z",
     "iopub.status.busy": "2024-05-04T09:29:10.484581Z",
     "iopub.status.idle": "2024-05-04T09:29:10.607447Z",
     "shell.execute_reply": "2024-05-04T09:29:10.606128Z"
    },
    "papermill": {
     "duration": 0.181772,
     "end_time": "2024-05-04T09:29:10.611709",
     "exception": false,
     "start_time": "2024-05-04T09:29:10.429937",
     "status": "completed"
    },
    "tags": []
   },
   "outputs": [],
   "source": [
    "predictions = model.transform(data)"
   ]
  },
  {
   "cell_type": "code",
   "execution_count": 38,
   "id": "63e0c193",
   "metadata": {
    "execution": {
     "iopub.execute_input": "2024-05-04T09:29:10.691635Z",
     "iopub.status.busy": "2024-05-04T09:29:10.691143Z",
     "iopub.status.idle": "2024-05-04T09:29:10.706561Z",
     "shell.execute_reply": "2024-05-04T09:29:10.705591Z"
    },
    "papermill": {
     "duration": 0.056989,
     "end_time": "2024-05-04T09:29:10.709248",
     "exception": false,
     "start_time": "2024-05-04T09:29:10.652259",
     "status": "completed"
    },
    "tags": []
   },
   "outputs": [],
   "source": [
    "evaluator = MulticlassClassificationEvaluator(labelCol='label', predictionCol='prediction', metricName='accuracy')"
   ]
  },
  {
   "cell_type": "code",
   "execution_count": 39,
   "id": "15f9119b",
   "metadata": {
    "execution": {
     "iopub.execute_input": "2024-05-04T09:29:10.786490Z",
     "iopub.status.busy": "2024-05-04T09:29:10.785982Z",
     "iopub.status.idle": "2024-05-04T09:29:34.344600Z",
     "shell.execute_reply": "2024-05-04T09:29:34.343246Z"
    },
    "papermill": {
     "duration": 23.601615,
     "end_time": "2024-05-04T09:29:34.348839",
     "exception": false,
     "start_time": "2024-05-04T09:29:10.747224",
     "status": "completed"
    },
    "tags": []
   },
   "outputs": [
    {
     "name": "stderr",
     "output_type": "stream",
     "text": [
      "[Stage 106:==============>                                          (1 + 3) / 4]\r"
     ]
    },
    {
     "name": "stdout",
     "output_type": "stream",
     "text": [
      "Test Accuracy: 1.00\n"
     ]
    },
    {
     "name": "stderr",
     "output_type": "stream",
     "text": [
      "                                                                                \r"
     ]
    }
   ],
   "source": [
    "accuracy = evaluator.evaluate(predictions)\n",
    "\n",
    "print(f\"Test Accuracy: {accuracy:.2f}\")"
   ]
  },
  {
   "cell_type": "code",
   "execution_count": 40,
   "id": "c7bf8258",
   "metadata": {
    "execution": {
     "iopub.execute_input": "2024-05-04T09:29:34.427236Z",
     "iopub.status.busy": "2024-05-04T09:29:34.426378Z",
     "iopub.status.idle": "2024-05-04T09:29:34.433701Z",
     "shell.execute_reply": "2024-05-04T09:29:34.432554Z"
    },
    "papermill": {
     "duration": 0.049518,
     "end_time": "2024-05-04T09:29:34.436366",
     "exception": false,
     "start_time": "2024-05-04T09:29:34.386848",
     "status": "completed"
    },
    "tags": []
   },
   "outputs": [
    {
     "data": {
      "text/plain": [
       "0.9990396406005413"
      ]
     },
     "execution_count": 40,
     "metadata": {},
     "output_type": "execute_result"
    }
   ],
   "source": [
    "accuracy"
   ]
  },
  {
   "cell_type": "code",
   "execution_count": 41,
   "id": "0e3ebb41",
   "metadata": {
    "execution": {
     "iopub.execute_input": "2024-05-04T09:29:34.512764Z",
     "iopub.status.busy": "2024-05-04T09:29:34.511961Z",
     "iopub.status.idle": "2024-05-04T09:29:34.520612Z",
     "shell.execute_reply": "2024-05-04T09:29:34.519380Z"
    },
    "papermill": {
     "duration": 0.050166,
     "end_time": "2024-05-04T09:29:34.523393",
     "exception": false,
     "start_time": "2024-05-04T09:29:34.473227",
     "status": "completed"
    },
    "tags": []
   },
   "outputs": [
    {
     "name": "stdout",
     "output_type": "stream",
     "text": [
      "DecisionTreeClassificationModel: uid=DecisionTreeClassifier_6024db32a8e0, depth=5, numNodes=25, numClasses=2, numFeatures=7\n",
      "  If (feature 0 <= 1441000.21)\n",
      "   If (feature 6 in {0.0})\n",
      "    If (feature 0 <= 539091.01)\n",
      "     Predict: 0.0\n",
      "    Else (feature 0 > 539091.01)\n",
      "     If (feature 1 <= 350647.275)\n",
      "      Predict: 0.0\n",
      "     Else (feature 1 > 350647.275)\n",
      "      If (feature 2 <= 17.475)\n",
      "       Predict: 1.0\n",
      "      Else (feature 2 > 17.475)\n",
      "       Predict: 0.0\n",
      "   Else (feature 6 not in {0.0})\n",
      "    If (feature 1 <= 708756.63)\n",
      "     Predict: 0.0\n",
      "    Else (feature 1 > 708756.63)\n",
      "     If (feature 2 <= 17.475)\n",
      "      Predict: 1.0\n",
      "     Else (feature 2 > 17.475)\n",
      "      Predict: 0.0\n",
      "  Else (feature 0 > 1441000.21)\n",
      "   If (feature 1 <= 708756.63)\n",
      "    Predict: 0.0\n",
      "   Else (feature 1 > 708756.63)\n",
      "    If (feature 1 <= 2060406.775)\n",
      "     If (feature 3 in {1.0})\n",
      "      Predict: 1.0\n",
      "     Else (feature 3 not in {1.0})\n",
      "      Predict: 0.0\n",
      "    Else (feature 1 > 2060406.775)\n",
      "     If (feature 2 <= 17.475)\n",
      "      Predict: 1.0\n",
      "     Else (feature 2 > 17.475)\n",
      "      If (feature 1 <= 7747184.380000001)\n",
      "       Predict: 0.0\n",
      "      Else (feature 1 > 7747184.380000001)\n",
      "       Predict: 1.0\n",
      "\n"
     ]
    }
   ],
   "source": [
    "print(model.toDebugString)"
   ]
  },
  {
   "cell_type": "code",
   "execution_count": 42,
   "id": "3888d436",
   "metadata": {
    "execution": {
     "iopub.execute_input": "2024-05-04T09:29:34.601816Z",
     "iopub.status.busy": "2024-05-04T09:29:34.600952Z",
     "iopub.status.idle": "2024-05-04T09:29:35.116087Z",
     "shell.execute_reply": "2024-05-04T09:29:35.114232Z"
    },
    "papermill": {
     "duration": 0.559259,
     "end_time": "2024-05-04T09:29:35.120034",
     "exception": false,
     "start_time": "2024-05-04T09:29:34.560775",
     "status": "completed"
    },
    "tags": []
   },
   "outputs": [],
   "source": [
    "# Save the model\n",
    "model.save(\"Dtree_model\")"
   ]
  },
  {
   "cell_type": "code",
   "execution_count": 43,
   "id": "cfb2ae30",
   "metadata": {
    "execution": {
     "iopub.execute_input": "2024-05-04T09:29:35.219398Z",
     "iopub.status.busy": "2024-05-04T09:29:35.218438Z",
     "iopub.status.idle": "2024-05-04T09:29:35.913815Z",
     "shell.execute_reply": "2024-05-04T09:29:35.912555Z"
    },
    "papermill": {
     "duration": 0.741414,
     "end_time": "2024-05-04T09:29:35.917206",
     "exception": false,
     "start_time": "2024-05-04T09:29:35.175792",
     "status": "completed"
    },
    "tags": []
   },
   "outputs": [],
   "source": [
    "# Load the model\n",
    "from pyspark.ml.classification import DecisionTreeClassificationModel\n",
    "dtree_model = DecisionTreeClassificationModel.load(\"Dtree_model\")"
   ]
  },
  {
   "cell_type": "markdown",
   "id": "a53f1882",
   "metadata": {
    "papermill": {
     "duration": 0.038093,
     "end_time": "2024-05-04T09:29:36.001241",
     "exception": false,
     "start_time": "2024-05-04T09:29:35.963148",
     "status": "completed"
    },
    "tags": []
   },
   "source": [
    "## HAPPY ENDING"
   ]
  }
 ],
 "metadata": {
  "kaggle": {
   "accelerator": "none",
   "dataSources": [
    {
     "datasetId": 4777938,
     "sourceId": 8092625,
     "sourceType": "datasetVersion"
    }
   ],
   "dockerImageVersionId": 30684,
   "isGpuEnabled": false,
   "isInternetEnabled": true,
   "language": "python",
   "sourceType": "notebook"
  },
  "kernelspec": {
   "display_name": "Python 3",
   "language": "python",
   "name": "python3"
  },
  "language_info": {
   "codemirror_mode": {
    "name": "ipython",
    "version": 3
   },
   "file_extension": ".py",
   "mimetype": "text/x-python",
   "name": "python",
   "nbconvert_exporter": "python",
   "pygments_lexer": "ipython3",
   "version": "3.10.13"
  },
  "papermill": {
   "default_parameters": {},
   "duration": 477.883663,
   "end_time": "2024-05-04T09:29:38.662231",
   "environment_variables": {},
   "exception": null,
   "input_path": "__notebook__.ipynb",
   "output_path": "__notebook__.ipynb",
   "parameters": {},
   "start_time": "2024-05-04T09:21:40.778568",
   "version": "2.5.0"
  }
 },
 "nbformat": 4,
 "nbformat_minor": 5
}
